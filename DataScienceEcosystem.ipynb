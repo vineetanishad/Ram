{
 "cells": [
  {
   "cell_type": "markdown",
   "id": "f8bd41f5-e7d6-4bfb-b533-e781963aa120",
   "metadata": {},
   "source": [
    "# Data Science Tools and Ecosystem"
   ]
  },
  {
   "cell_type": "markdown",
   "id": "1e52f008-ac22-4ec9-9bb8-5a192a667ef8",
   "metadata": {},
   "source": [
    "In this notebook, Data Science Tools and Ecosystem are summarized."
   ]
  },
  {
   "cell_type": "markdown",
   "id": "82864048-9fc6-44cc-814d-d15212aa76b6",
   "metadata": {},
   "source": [
    " __Objectives:__ \n",
    " * List popular languages for data science\n",
    " * List popular libraries for data science\n",
    " * List popular tools for data science"
   ]
  },
  {
   "cell_type": "markdown",
   "id": "fedc4519-431f-4aad-93c6-de96c003ac2b",
   "metadata": {},
   "source": [
    "Some of the popular languages that Data Scientists use are:\n",
    "1. Python\n",
    "2. R\n",
    "3. SQL\n",
    "4. Scala\n",
    "5. JAVA\n",
    "6. C++\n",
    "7. Julia"
   ]
  },
  {
   "cell_type": "markdown",
   "id": "0379b25f-3f6a-4434-8b02-f77f119a0711",
   "metadata": {},
   "source": [
    "Some of the commonly used libraries used by Data Scientists include:\n",
    "1. Pandas\n",
    "2. NumPy\n",
    "3. SciPy\n",
    "4. Matplotlib."
   ]
  },
  {
   "cell_type": "markdown",
   "id": "0707c5da-cd40-4ae1-899b-3941343ef69d",
   "metadata": {},
   "source": [
    "|Data Science Tools|\n",
    "|------------------|\n",
    "|JupyterLab|\n",
    "|JupyterLite|\n",
    "|RStudio|"
   ]
  },
  {
   "cell_type": "markdown",
   "id": "defa1ef6-f2d5-43c2-be7b-c64272d3e28d",
   "metadata": {},
   "source": [
    "### Below are a few examples of evaluating arithmetic expressions in Python.\n",
    "\n"
   ]
  },
  {
   "cell_type": "code",
   "execution_count": 1,
   "id": "83e7537f-f03c-4a34-967e-2db86723cef6",
   "metadata": {},
   "outputs": [
    {
     "data": {
      "text/plain": [
       "17"
      ]
     },
     "execution_count": 1,
     "metadata": {},
     "output_type": "execute_result"
    }
   ],
   "source": [
    "# This a simple arithmetic expression to mutiply then add integers\n",
    "(3*4)+5"
   ]
  },
  {
   "cell_type": "code",
   "execution_count": 2,
   "id": "3321935c-f5cf-4b0d-8f12-2f57d9502c67",
   "metadata": {},
   "outputs": [
    {
     "data": {
      "text/plain": [
       "3.3333333333333335"
      ]
     },
     "execution_count": 2,
     "metadata": {},
     "output_type": "execute_result"
    }
   ],
   "source": [
    "# This will convert 200 minutes to hours by diving by 60\n",
    "200/60"
   ]
  },
  {
   "cell_type": "markdown",
   "id": "5bd4dbdd-e06d-4172-9c99-174654c0bae1",
   "metadata": {},
   "source": [
    "## Author\n",
    "Vineeta Nishad"
   ]
  }
 ],
 "metadata": {
  "kernelspec": {
   "display_name": "anaconda-panel-2023.05-py310",
   "language": "python",
   "name": "conda-env-anaconda-panel-2023.05-py310-py"
  },
  "language_info": {
   "codemirror_mode": {
    "name": "ipython",
    "version": 3
   },
   "file_extension": ".py",
   "mimetype": "text/x-python",
   "name": "python",
   "nbconvert_exporter": "python",
   "pygments_lexer": "ipython3",
   "version": "3.11.5"
  }
 },
 "nbformat": 4,
 "nbformat_minor": 5
}
